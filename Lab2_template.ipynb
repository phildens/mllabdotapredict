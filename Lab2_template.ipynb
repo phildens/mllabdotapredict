{
 "cells": [
  {
   "cell_type": "markdown",
   "id": "30450e42-b916-497e-b0cd-bb965d81b5be",
   "metadata": {
    "pycharm": {
     "name": "#%% md\n"
    }
   },
   "source": [
    "# Лабораторная работа 1\n",
    "### Выполнил: ФИО"
   ]
  },
  {
   "cell_type": "markdown",
   "id": "970a6982-e449-4e57-919d-1dcb6492c684",
   "metadata": {
    "pycharm": {
     "name": "#%% md\n"
    }
   },
   "source": [
    "Добро пожаловать в лабораторную работу! \n",
    "Оформите ваше решение контеста Kaggle в соответствии с этим шаблоном. Ваша задача - показать проверяющим ход ваших рассуждений, поэтому советуем писать много комментариев к коду и приводить комментарии к логике на каждом этапе в текстовых ячейках. \n",
    "Где необходимо, используйте графики для большей наглядности."
   ]
  },
  {
   "cell_type": "markdown",
   "id": "f98eaf96-7d8b-4dbf-80f1-1c8bb5c86452",
   "metadata": {
    "pycharm": {
     "name": "#%% md\n"
    }
   },
   "source": [
    "При отправке поменяйте название файла на ваши ФИО!"
   ]
  },
  {
   "cell_type": "markdown",
   "id": "19a9c839-ae08-49e7-a54c-13084737b7ff",
   "metadata": {
    "pycharm": {
     "name": "#%% md\n"
    }
   },
   "source": [
    "### EDA (исследовательский анализ данных)"
   ]
  },
  {
   "cell_type": "markdown",
   "id": "ce6d1797-da8a-44ad-a487-8cd89b35b054",
   "metadata": {
    "pycharm": {
     "name": "#%% md\n"
    }
   },
   "source": [
    "В этом разделе вам необходимо провести анализ вашего датасета, интерпретировать признаки, выяснить их значимость и исследовать зависимости между ними."
   ]
  },
  {
   "cell_type": "code",
   "id": "a8aef4d1-bab2-42ae-9e69-1e27ab603dbb",
   "metadata": {
    "pycharm": {
     "name": "#%%\n"
    },
    "ExecuteTime": {
     "end_time": "2024-10-18T06:39:15.660488Z",
     "start_time": "2024-10-18T06:39:14.628736Z"
    }
   },
   "source": [
    "import numpy as np\n",
    "import pandas as pd\n",
    "import matplotlib.pyplot as plt\n"
   ],
   "outputs": [],
   "execution_count": 1
  },
  {
   "cell_type": "code",
   "source": [
    "features = pd.read_csv('data/DOTA2_TRAIN_features.csv')\n",
    "targets = pd.read_csv('data/DOTA2_TRAIN_targets.csv')\n",
    "df = pd.merge(targets, features, on='match_id')"
   ],
   "metadata": {
    "collapsed": false,
    "pycharm": {
     "name": "#%%\n"
    },
    "ExecuteTime": {
     "end_time": "2024-10-18T06:39:16.345886Z",
     "start_time": "2024-10-18T06:39:15.662741Z"
    }
   },
   "id": "b18332e1afd5313c",
   "outputs": [],
   "execution_count": 2
  },
  {
   "metadata": {
    "ExecuteTime": {
     "end_time": "2024-10-18T06:39:16.591599Z",
     "start_time": "2024-10-18T06:39:16.347832Z"
    }
   },
   "cell_type": "code",
   "source": "test = pd.read_csv('data/DOTA2_TEST_features.csv')",
   "id": "680d03ac4e629bef",
   "outputs": [],
   "execution_count": 3
  },
  {
   "cell_type": "code",
   "source": [
    "original_df = pd.merge(features.dropna().copy(), targets, on='match_id')\n",
    "original_features = original_df.drop(columns=['radiant_win', 'match_id'], axis=1)\n",
    "original_targets = original_df.radiant_win"
   ],
   "metadata": {
    "collapsed": false,
    "pycharm": {
     "name": "#%%\n"
    },
    "ExecuteTime": {
     "end_time": "2024-10-18T06:39:16.662188Z",
     "start_time": "2024-10-18T06:39:16.596965Z"
    }
   },
   "id": "db0b94092238fd51",
   "outputs": [],
   "execution_count": 4
  },
  {
   "cell_type": "markdown",
   "source": [
    "разбил данные на две части: в одной буду заменять наны на что-то, а в другой просто все удалю\n",
    "посмотрим на уникальные значения в каждом столбце и сделаем вывод о том, какие призкгнаки категориальные"
   ],
   "metadata": {
    "collapsed": false,
    "pycharm": {
     "name": "#%% md\n"
    }
   },
   "id": "db5c26f95b0486f0"
  },
  {
   "cell_type": "code",
   "source": [
    "categorial_features = ['lobby_type', 'game_mode', 'r5_firstblood_claimed', 'r1_firstblood_claimed',\n",
    "                       'r2_firstblood_claimed', 'r3_firstblood_claimed', 'r4_firstblood_claimed',\n",
    "                       'd5_firstblood_claimed', 'd1_firstblood_claimed', 'd2_firstblood_claimed',\n",
    "                       'd3_firstblood_claimed', 'd4_firstblood_claimed']"
   ],
   "metadata": {
    "collapsed": false,
    "pycharm": {
     "name": "#%%\n"
    },
    "ExecuteTime": {
     "end_time": "2024-10-18T06:39:16.666409Z",
     "start_time": "2024-10-18T06:39:16.663419Z"
    }
   },
   "id": "59d79feebdeaa122",
   "outputs": [],
   "execution_count": 5
  },
  {
   "cell_type": "code",
   "source": [
    "original_features.nunique()"
   ],
   "metadata": {
    "collapsed": false,
    "pycharm": {
     "name": "#%%\n"
    },
    "ExecuteTime": {
     "end_time": "2024-10-18T06:39:16.723546Z",
     "start_time": "2024-10-18T06:39:16.667507Z"
    }
   },
   "id": "9d08bf74975e28d8",
   "outputs": [
    {
     "data": {
      "text/plain": [
       "game_time                     3051\n",
       "game_mode                        7\n",
       "lobby_type                       2\n",
       "objectives_len                  39\n",
       "chat_len                       136\n",
       "                              ... \n",
       "d5_teamfight_participation     575\n",
       "d5_towers_killed                 9\n",
       "d5_roshans_killed                5\n",
       "d5_obs_placed                   24\n",
       "d5_sen_placed                   36\n",
       "Length: 245, dtype: int64"
      ]
     },
     "execution_count": 6,
     "metadata": {},
     "output_type": "execute_result"
    }
   ],
   "execution_count": 6
  },
  {
   "cell_type": "markdown",
   "source": [
    "**Делаем бэйслайн с замененными значениями и удаленными**\n"
   ],
   "metadata": {
    "collapsed": false,
    "pycharm": {
     "name": "#%% md\n"
    }
   },
   "id": "e19d4cc1271dc43"
  },
  {
   "cell_type": "code",
   "source": [],
   "metadata": {
    "collapsed": false,
    "pycharm": {
     "name": "#%%\n"
    },
    "ExecuteTime": {
     "end_time": "2024-10-18T06:39:16.727637Z",
     "start_time": "2024-10-18T06:39:16.724768Z"
    }
   },
   "id": "951edf25e952421c",
   "outputs": [],
   "execution_count": 6
  },
  {
   "cell_type": "code",
   "source": [
    "df.fillna(-999, inplace=True)"
   ],
   "metadata": {
    "collapsed": false,
    "pycharm": {
     "name": "#%%\n"
    },
    "ExecuteTime": {
     "end_time": "2024-10-18T06:39:16.740658Z",
     "start_time": "2024-10-18T06:39:16.728929Z"
    }
   },
   "id": "512c8f63cd184feb",
   "outputs": [],
   "execution_count": 7
  },
  {
   "cell_type": "code",
   "source": [],
   "metadata": {
    "collapsed": false,
    "pycharm": {
     "name": "#%%\n"
    },
    "ExecuteTime": {
     "end_time": "2024-10-18T06:39:16.744768Z",
     "start_time": "2024-10-18T06:39:16.741942Z"
    }
   },
   "id": "6c7811fe910a5ee2",
   "outputs": [],
   "execution_count": 7
  },
  {
   "cell_type": "markdown",
   "id": "160af548-c186-443a-9f6b-35373b9de9cc",
   "metadata": {
    "pycharm": {
     "name": "#%% md\n"
    }
   },
   "source": [
    "### Preprocessing (подготовка данных)"
   ]
  },
  {
   "cell_type": "markdown",
   "id": "2dc5c679-39ad-4365-a7c8-0c65ea7dd670",
   "metadata": {
    "pycharm": {
     "name": "#%% md\n"
    }
   },
   "source": [
    " В этом разделе вам необходимо реализовать подготовку ваших данных, в том числе заполнение пропусков, фильтрацию выбросов, кодирование категориальных признаков и т.д. В этот же раздел включите любые операции над данными, которые сочтете нужными."
   ]
  },
  {
   "cell_type": "code",
   "id": "bf9f8d01-e025-42c6-bb43-5a36f45f5c19",
   "metadata": {
    "pycharm": {
     "name": "#%%\n"
    },
    "ExecuteTime": {
     "end_time": "2024-10-18T06:39:16.753486Z",
     "start_time": "2024-10-18T06:39:16.750596Z"
    }
   },
   "source": [
    "# preprocessing pipeline"
   ],
   "outputs": [],
   "execution_count": 8
  },
  {
   "cell_type": "markdown",
   "id": "8479a893-758a-48ce-a654-d3b7ac26d1fb",
   "metadata": {
    "pycharm": {
     "name": "#%% md\n"
    }
   },
   "source": [
    "### Model & training (Выбор модели и её обучение)"
   ]
  },
  {
   "cell_type": "markdown",
   "id": "05d8b94b-06f2-44ea-a6b4-96bc9e7de76f",
   "metadata": {
    "pycharm": {
     "name": "#%% md\n"
    }
   },
   "source": [
    "В этом разделе описываете модель и ставите эксперименты по обучению.\n",
    "\n",
    "Если вы ставили много экспериментов, приведите их в хронологическом порядке чтобы мы увидели эволюцию ваших рассуждений."
   ]
  },
  {
   "cell_type": "markdown",
   "id": "4d87d736-4628-4fab-ae88-ac0189a159bd",
   "metadata": {
    "pycharm": {
     "name": "#%% md\n"
    }
   },
   "source": [
    "#### Эксперимент 1"
   ]
  },
  {
   "cell_type": "code",
   "id": "0b469536-9415-4c86-9784-3dbada62c28c",
   "metadata": {
    "pycharm": {
     "name": "#%%\n"
    },
    "ExecuteTime": {
     "end_time": "2024-10-18T06:39:17.730707Z",
     "start_time": "2024-10-18T06:39:16.754604Z"
    }
   },
   "source": [
    "from sklearn.model_selection import train_test_split\n",
    "from catboost import CatBoostClassifier, Pool, metrics, cv\n",
    "from sklearn.metrics import roc_auc_score\n",
    "X = original_features\n",
    "y = original_targets\n",
    "\n",
    "X_test = test.drop(columns='match_id', axis=1)\n",
    "test_index = test.match_id"
   ],
   "outputs": [],
   "execution_count": 9
  },
  {
   "cell_type": "code",
   "source": [
    "X_train, X_validation, y_train, y_validation = train_test_split(X, y, train_size=0.75, random_state=42)"
   ],
   "metadata": {
    "collapsed": false,
    "pycharm": {
     "name": "#%%\n"
    },
    "ExecuteTime": {
     "end_time": "2024-10-18T06:39:17.749612Z",
     "start_time": "2024-10-18T06:39:17.731823Z"
    }
   },
   "id": "ae387f2328e20279",
   "outputs": [],
   "execution_count": 10
  },
  {
   "cell_type": "code",
   "source": [
    "model = CatBoostClassifier(\n",
    "    custom_loss=[metrics.Accuracy()],\n",
    "    random_seed=42,\n",
    "    logging_level='Silent'\n",
    ")"
   ],
   "metadata": {
    "collapsed": false,
    "pycharm": {
     "name": "#%%\n"
    },
    "ExecuteTime": {
     "end_time": "2024-10-18T06:39:17.754777Z",
     "start_time": "2024-10-18T06:39:17.750508Z"
    }
   },
   "id": "aa2d07e39b81bbd8",
   "outputs": [],
   "execution_count": 11
  },
  {
   "cell_type": "code",
   "source": [
    "model.fit(\n",
    "    X_train, y_train,\n",
    "    cat_features=categorial_features,\n",
    "    eval_set=(X_validation, y_validation),\n",
    "    #     logging_level='Verbose',  # you can uncomment this for text output\n",
    "    plot=True\n",
    ");"
   ],
   "metadata": {
    "collapsed": false,
    "pycharm": {
     "name": "#%%\n"
    },
    "ExecuteTime": {
     "end_time": "2024-10-18T06:39:51.853470Z",
     "start_time": "2024-10-18T06:39:17.755953Z"
    }
   },
   "id": "6ae72059717c6e91",
   "outputs": [
    {
     "data": {
      "text/plain": [
       "MetricVisualizer(layout=Layout(align_self='stretch', height='500px'))"
      ],
      "application/vnd.jupyter.widget-view+json": {
       "version_major": 2,
       "version_minor": 0,
       "model_id": "2a1e0951d1da4ef2a2af37dd6333055d"
      }
     },
     "metadata": {},
     "output_type": "display_data"
    }
   ],
   "execution_count": 12
  },
  {
   "metadata": {},
   "cell_type": "markdown",
   "source": "",
   "id": "6817889970097d1b"
  },
  {
   "metadata": {
    "ExecuteTime": {
     "end_time": "2024-10-18T06:39:51.960194Z",
     "start_time": "2024-10-18T06:39:51.857653Z"
    }
   },
   "cell_type": "code",
   "source": [
    "y = model.predict(X_validation)\n",
    "roc_auc_score(y_validation, y)"
   ],
   "id": "f9e38d54ebabcbc",
   "outputs": [
    {
     "data": {
      "text/plain": [
       "0.6994061807795856"
      ]
     },
     "execution_count": 13,
     "metadata": {},
     "output_type": "execute_result"
    }
   ],
   "execution_count": 13
  },
  {
   "metadata": {},
   "cell_type": "markdown",
   "source": "ro",
   "id": "a622ca6b1cdb0ddf"
  },
  {
   "metadata": {
    "ExecuteTime": {
     "end_time": "2024-10-18T06:39:52.078048Z",
     "start_time": "2024-10-18T06:39:51.962625Z"
    }
   },
   "cell_type": "code",
   "source": "predit_proba = model.predict_proba(X_test)",
   "id": "d4770fea2a1a7afa",
   "outputs": [],
   "execution_count": 14
  },
  {
   "metadata": {
    "ExecuteTime": {
     "end_time": "2024-10-18T06:39:52.087668Z",
     "start_time": "2024-10-18T06:39:52.082345Z"
    }
   },
   "cell_type": "code",
   "source": "",
   "id": "e4dd5d91404a8f90",
   "outputs": [],
   "execution_count": 14
  },
  {
   "metadata": {
    "ExecuteTime": {
     "end_time": "2024-10-18T06:39:52.146133Z",
     "start_time": "2024-10-18T06:39:52.092049Z"
    }
   },
   "cell_type": "code",
   "source": [
    "outer = pd.Series(data = predit_proba[:, 1] , index=test_index)\n",
    "outer.name= 'radiant_win'\n",
    "outer.to_csv('predictions/predictions1.csv')"
   ],
   "id": "17da0322431fa13b",
   "outputs": [],
   "execution_count": 15
  },
  {
   "cell_type": "markdown",
   "id": "63ad46c8-d632-4476-a438-b9318bb0fbc8",
   "metadata": {
    "pycharm": {
     "name": "#%% md\n"
    }
   },
   "source": [
    "#### Эксперимент 2"
   ]
  },
  {
   "cell_type": "code",
   "id": "91ff3bbf-7ecc-4b58-8d28-b6cf64afed39",
   "metadata": {
    "pycharm": {
     "name": "#%%\n"
    },
    "ExecuteTime": {
     "end_time": "2024-10-18T06:40:42.494474Z",
     "start_time": "2024-10-18T06:39:52.147726Z"
    }
   },
   "source": [
    "X = df.drop(columns= ['match_id', 'radiant_win'], axis=1)\n",
    "y = df.radiant_win\n",
    "X_test = test.drop(columns='match_id', axis=1)\n",
    "test_index = test.match_id\n",
    "X_train, X_validation, y_train, y_validation = train_test_split(X, y, train_size=0.75, random_state=42)\n",
    "model = CatBoostClassifier(\n",
    "    custom_loss=[metrics.Accuracy()],\n",
    "    random_seed=42,\n",
    "    logging_level='Silent'\n",
    ")\n",
    "model.fit(\n",
    "    X_train, y_train,\n",
    "    cat_features=categorial_features,\n",
    "    eval_set=(X_validation, y_validation),\n",
    "    #     logging_level='Verbose',  # you can uncomment this for text output\n",
    "    plot=True\n",
    ");\n",
    "\n"
   ],
   "outputs": [
    {
     "data": {
      "text/plain": [
       "MetricVisualizer(layout=Layout(align_self='stretch', height='500px'))"
      ],
      "application/vnd.jupyter.widget-view+json": {
       "version_major": 2,
       "version_minor": 0,
       "model_id": "ef026f5ce7964d4bb5f10c8d9d5b8605"
      }
     },
     "metadata": {},
     "output_type": "display_data"
    }
   ],
   "execution_count": 16
  },
  {
   "metadata": {
    "ExecuteTime": {
     "end_time": "2024-10-18T06:40:42.546028Z",
     "start_time": "2024-10-18T06:40:42.496794Z"
    }
   },
   "cell_type": "code",
   "source": [
    "y = model.predict(X_validation)\n",
    "roc_auc_score(y_validation, y)\n"
   ],
   "id": "18393f43096c7aaf",
   "outputs": [
    {
     "data": {
      "text/plain": [
       "0.7097083913916633"
      ]
     },
     "execution_count": 17,
     "metadata": {},
     "output_type": "execute_result"
    }
   ],
   "execution_count": 17
  },
  {
   "metadata": {},
   "cell_type": "markdown",
   "source": [
    "**Вывод**\n",
    "если заменить пропущенные значения на отельный класс то результат будет лучше"
   ],
   "id": "d019fa3fdeb1e84f"
  },
  {
   "metadata": {
    "ExecuteTime": {
     "end_time": "2024-10-18T06:40:42.637906Z",
     "start_time": "2024-10-18T06:40:42.546950Z"
    }
   },
   "cell_type": "code",
   "source": [
    "predit_proba = model.predict_proba(X_test)\n",
    "\n",
    "outer = pd.Series(data=predit_proba[:, 1], index=test_index)\n",
    "outer.name = 'radiant_win'\n",
    "outer.to_csv('predictions/predictions2.csv')"
   ],
   "id": "6b6960f70433e122",
   "outputs": [],
   "execution_count": 18
  },
  {
   "cell_type": "markdown",
   "id": "c26becfd-c285-411c-80b1-daf27d7f701a",
   "metadata": {
    "pycharm": {
     "name": "#%% md\n"
    }
   },
   "source": [
    "#### Эксперимент 3\n",
    "попробуем кроссвалидацию"
   ]
  },
  {
   "cell_type": "code",
   "id": "adc78697-8682-4c0c-8caf-db4e14788907",
   "metadata": {
    "pycharm": {
     "name": "#%%\n"
    },
    "ExecuteTime": {
     "end_time": "2024-10-18T06:41:30.288875Z",
     "start_time": "2024-10-18T06:40:42.638990Z"
    }
   },
   "source": [
    "X = df.drop(columns= ['match_id', 'radiant_win'], axis=1)\n",
    "y = df.radiant_win\n",
    "X_test = test.drop(columns='match_id', axis=1)\n",
    "test_index = test.match_id\n",
    "X_train, X_validation, y_train, y_validation = train_test_split(X, y, train_size=0.75, random_state=42)\n",
    "model = CatBoostClassifier(\n",
    "    custom_loss=[metrics.Accuracy()],\n",
    "    random_seed=42,\n",
    "    logging_level='Silent'\n",
    ")\n",
    "model.fit(\n",
    "    X_train, y_train,\n",
    "    cat_features=categorial_features,\n",
    "    eval_set=(X_validation, y_validation),\n",
    "    #     logging_level='Verbose',  # you can uncomment this for text output\n",
    "    plot=True\n",
    ");"
   ],
   "outputs": [
    {
     "data": {
      "text/plain": [
       "MetricVisualizer(layout=Layout(align_self='stretch', height='500px'))"
      ],
      "application/vnd.jupyter.widget-view+json": {
       "version_major": 2,
       "version_minor": 0,
       "model_id": "ad33827e05b24f09a278f78dabfdc175"
      }
     },
     "metadata": {},
     "output_type": "display_data"
    }
   ],
   "execution_count": 19
  },
  {
   "metadata": {
    "ExecuteTime": {
     "end_time": "2024-10-18T07:01:46.646013Z",
     "start_time": "2024-10-18T06:41:30.290915Z"
    }
   },
   "cell_type": "code",
   "source": [
    "cv_params = model.get_params()\n",
    "cv_params.update({\n",
    "    'loss_function': metrics.Logloss()\n",
    "})\n",
    "cv_data = cv(\n",
    "    Pool(X, y, cat_features=categorial_features),\n",
    "    cv_params,\n",
    "    plot=True\n",
    ")"
   ],
   "id": "715c2c2a7623c60c",
   "outputs": [
    {
     "data": {
      "text/plain": [
       "MetricVisualizer(layout=Layout(align_self='stretch', height='500px'))"
      ],
      "application/vnd.jupyter.widget-view+json": {
       "version_major": 2,
       "version_minor": 0,
       "model_id": "158679cdf3c14fa9a7706041b65955a7"
      }
     },
     "metadata": {},
     "output_type": "display_data"
    }
   ],
   "execution_count": 20
  },
  {
   "metadata": {
    "ExecuteTime": {
     "end_time": "2024-10-18T07:01:46.708065Z",
     "start_time": "2024-10-18T07:01:46.648647Z"
    }
   },
   "cell_type": "code",
   "source": [
    "y = model.predict(X_validation)\n",
    "roc_auc_score(y_validation, y)\n"
   ],
   "id": "e35d9c778bd5c15a",
   "outputs": [
    {
     "data": {
      "text/plain": [
       "0.7097083913916633"
      ]
     },
     "execution_count": 21,
     "metadata": {},
     "output_type": "execute_result"
    }
   ],
   "execution_count": 21
  },
  {
   "metadata": {},
   "cell_type": "markdown",
   "source": [
    "### Эксперимент 4\n",
    "попробуем уменьшить тестовую выборку\n"
   ],
   "id": "2f4690d6608b2df6"
  },
  {
   "metadata": {
    "ExecuteTime": {
     "end_time": "2024-10-18T07:44:56.492795Z",
     "start_time": "2024-10-18T07:01:46.709067Z"
    }
   },
   "cell_type": "code",
   "source": [
    "X = df.drop(columns= ['match_id', 'radiant_win'], axis=1)\n",
    "y = df.radiant_win\n",
    "X_test = test.drop(columns='match_id', axis=1)\n",
    "test_index = test.match_id\n",
    "X_train, X_validation, y_train, y_validation = train_test_split(X, y, train_size=0.8, random_state=42)\n",
    "model = CatBoostClassifier(\n",
    "    custom_loss=[metrics.Accuracy()],\n",
    "    random_seed=42,\n",
    "    logging_level='Silent'\n",
    ")\n",
    "model.fit(\n",
    "    X_train, y_train,\n",
    "    cat_features=categorial_features,\n",
    "    eval_set=(X_validation, y_validation),\n",
    "    #     logging_level='Verbose',  # you can uncomment this for text output\n",
    "    plot=True\n",
    ");\n"
   ],
   "id": "5c49db2b25c799a7",
   "outputs": [
    {
     "data": {
      "text/plain": [
       "MetricVisualizer(layout=Layout(align_self='stretch', height='500px'))"
      ],
      "application/vnd.jupyter.widget-view+json": {
       "version_major": 2,
       "version_minor": 0,
       "model_id": "200beeddd29a48dc87b6e4d6ec77a19c"
      }
     },
     "metadata": {},
     "output_type": "display_data"
    }
   ],
   "execution_count": 22
  },
  {
   "metadata": {},
   "cell_type": "markdown",
   "source": "Модель начала переобучаться ",
   "id": "a4da31e66bdcd20c"
  },
  {
   "metadata": {
    "ExecuteTime": {
     "end_time": "2024-10-18T07:44:56.549247Z",
     "start_time": "2024-10-18T07:44:56.495762Z"
    }
   },
   "cell_type": "code",
   "source": [
    "y = model.predict(X_validation)\n",
    "roc_auc_score(y_validation, y)"
   ],
   "id": "bfc4c45a2214dce7",
   "outputs": [
    {
     "data": {
      "text/plain": [
       "0.7173347232217868"
      ]
     },
     "execution_count": 23,
     "metadata": {},
     "output_type": "execute_result"
    }
   ],
   "execution_count": 23
  },
  {
   "metadata": {
    "ExecuteTime": {
     "end_time": "2024-10-18T07:44:56.639945Z",
     "start_time": "2024-10-18T07:44:56.550256Z"
    }
   },
   "cell_type": "code",
   "source": [
    "predit_proba = model.predict_proba(X_test)\n",
    "\n",
    "outer = pd.Series(data=predit_proba[:, 1], index=test_index)\n",
    "outer.name = 'radiant_win'\n",
    "outer.to_csv('predictions/predictions3.csv')"
   ],
   "id": "e067b4d161699f50",
   "outputs": [],
   "execution_count": 24
  },
  {
   "metadata": {},
   "cell_type": "markdown",
   "source": "### Эксперимент 5",
   "id": "7ca3701eb27849bc"
  },
  {
   "cell_type": "markdown",
   "id": "2951c100-0ab9-4900-915d-30a200970c45",
   "metadata": {
    "pycharm": {
     "name": "#%% md\n"
    }
   },
   "source": [
    "### Evaluation (оценка качества модели)"
   ]
  },
  {
   "cell_type": "markdown",
   "id": "0d648625-3c46-4e2c-ac1a-e96335a65e54",
   "metadata": {
    "pycharm": {
     "name": "#%% md\n"
    }
   },
   "source": [
    "В этом разделе проводите оценку качества вашей итоговой модели. "
   ]
  },
  {
   "cell_type": "code",
   "id": "f1667a6c-5b1f-4288-bdf5-1d671178126a",
   "metadata": {
    "pycharm": {
     "name": "#%%\n"
    },
    "ExecuteTime": {
     "end_time": "2024-10-18T07:44:56.646351Z",
     "start_time": "2024-10-18T07:44:56.644368Z"
    }
   },
   "source": [
    "# model evaluation"
   ],
   "outputs": [],
   "execution_count": 25
  },
  {
   "cell_type": "markdown",
   "id": "4495c17d-912b-42ea-9536-4b668d6a22d4",
   "metadata": {
    "pycharm": {
     "name": "#%% md\n"
    }
   },
   "source": [
    "### Conclusion (Выводы)"
   ]
  },
  {
   "cell_type": "markdown",
   "id": "70b88756-3945-4729-b58f-b779bf55b45e",
   "metadata": {
    "pycharm": {
     "name": "#%% md\n"
    }
   },
   "source": [
    "В этом разделе описываете полученные результаты и проводите анализ выполненной работы. \n",
    "Что получилось / не получилось и почему?"
   ]
  },
  {
   "cell_type": "code",
   "id": "4b7af2ca-a2df-48a8-b115-37ceb51f2f08",
   "metadata": {
    "pycharm": {
     "name": "#%%\n"
    },
    "ExecuteTime": {
     "end_time": "2024-10-18T07:44:56.648776Z",
     "start_time": "2024-10-18T07:44:56.647154Z"
    }
   },
   "source": [],
   "outputs": [],
   "execution_count": 25
  }
 ],
 "metadata": {
  "kernelspec": {
   "display_name": "Python 3 (ipykernel)",
   "language": "python",
   "name": "python3"
  },
  "language_info": {
   "codemirror_mode": {
    "name": "ipython",
    "version": 3
   },
   "file_extension": ".py",
   "mimetype": "text/x-python",
   "name": "python",
   "nbconvert_exporter": "python",
   "pygments_lexer": "ipython3",
   "version": "3.10.11"
  }
 },
 "nbformat": 4,
 "nbformat_minor": 5
}
