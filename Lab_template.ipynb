{
 "cells": [
  {
   "cell_type": "markdown",
   "id": "30450e42-b916-497e-b0cd-bb965d81b5be",
   "metadata": {
    "pycharm": {
     "name": "#%% md\n"
    }
   },
   "source": [
    "# Лабораторная работа 1\n",
    "### Выполнил: ФИО"
   ]
  },
  {
   "cell_type": "markdown",
   "id": "970a6982-e449-4e57-919d-1dcb6492c684",
   "metadata": {
    "pycharm": {
     "name": "#%% md\n"
    }
   },
   "source": [
    "Добро пожаловать в лабораторную работу! \n",
    "Оформите ваше решение контеста Kaggle в соответствии с этим шаблоном. Ваша задача - показать проверяющим ход ваших рассуждений, поэтому советуем писать много комментариев к коду и приводить комментарии к логике на каждом этапе в текстовых ячейках. \n",
    "Где необходимо, используйте графики для большей наглядности."
   ]
  },
  {
   "cell_type": "markdown",
   "id": "f98eaf96-7d8b-4dbf-80f1-1c8bb5c86452",
   "metadata": {
    "pycharm": {
     "name": "#%% md\n"
    }
   },
   "source": [
    "При отправке поменяйте название файла на ваши ФИО!"
   ]
  },
  {
   "cell_type": "markdown",
   "id": "19a9c839-ae08-49e7-a54c-13084737b7ff",
   "metadata": {
    "pycharm": {
     "name": "#%% md\n"
    }
   },
   "source": [
    "### EDA (исследовательский анализ данных)"
   ]
  },
  {
   "cell_type": "markdown",
   "id": "ce6d1797-da8a-44ad-a487-8cd89b35b054",
   "metadata": {
    "pycharm": {
     "name": "#%% md\n"
    }
   },
   "source": [
    "В этом разделе вам необходимо провести анализ вашего датасета, интерпретировать признаки, выяснить их значимость и исследовать зависимости между ними."
   ]
  },
  {
   "cell_type": "code",
   "execution_count": 50,
   "id": "a8aef4d1-bab2-42ae-9e69-1e27ab603dbb",
   "metadata": {
    "pycharm": {
     "name": "#%%\n"
    }
   },
   "outputs": [],
   "source": [
    "import numpy as np\n",
    "import pandas as pd\n",
    "import matplotlib.pyplot as plt\n"
   ]
  },
  {
   "cell_type": "code",
   "execution_count": 51,
   "outputs": [],
   "source": [
    "features = pd.read_csv('data/DOTA2_TRAIN_features.csv')\n",
    "targets = pd.read_csv('data/DOTA2_TRAIN_targets.csv')\n",
    "df= pd.merge(targets, features, on='match_id')"
   ],
   "metadata": {
    "collapsed": false,
    "pycharm": {
     "name": "#%%\n"
    }
   }
  },
  {
   "cell_type": "code",
   "execution_count": 52,
   "outputs": [],
   "source": [
    "original_df = pd.merge(features.dropna().copy(), targets, on='match_id')\n",
    "original_features = original_df.drop(columns=['radiant_win', 'match_id'], axis=1)\n",
    "original_targets = original_df.radiant_win"
   ],
   "metadata": {
    "collapsed": false,
    "pycharm": {
     "name": "#%%\n"
    }
   }
  },
  {
   "cell_type": "markdown",
   "source": [
    "разбил данные на две части: в одной буду заменять наны на что-то, а в другой просто все удалю\n",
    "посмотрим на уникальные значения в каждом столбце и сделаем вывод о том, какие призкгнаки категориальные"
   ],
   "metadata": {
    "collapsed": false,
    "pycharm": {
     "name": "#%% md\n"
    }
   }
  },
  {
   "cell_type": "code",
   "execution_count": 53,
   "outputs": [],
   "source": [
    "categorial_features = ['lobby_type', 'game_mode', 'r5_firstblood_claimed','r1_firstblood_claimed','r2_firstblood_claimed','r3_firstblood_claimed','r4_firstblood_claimed','d5_firstblood_claimed','d1_firstblood_claimed','d2_firstblood_claimed','d3_firstblood_claimed','d4_firstblood_claimed']"
   ],
   "metadata": {
    "collapsed": false,
    "pycharm": {
     "name": "#%%\n"
    }
   }
  },
  {
   "cell_type": "code",
   "execution_count": 54,
   "outputs": [
    {
     "data": {
      "text/plain": "game_time                     3051\ngame_mode                        7\nlobby_type                       2\nobjectives_len                  39\nchat_len                       136\n                              ... \nd5_teamfight_participation     575\nd5_towers_killed                 9\nd5_roshans_killed                5\nd5_obs_placed                   24\nd5_sen_placed                   36\nLength: 245, dtype: int64"
     },
     "execution_count": 54,
     "metadata": {},
     "output_type": "execute_result"
    }
   ],
   "source": [
    "original_features.nunique()"
   ],
   "metadata": {
    "collapsed": false,
    "pycharm": {
     "name": "#%%\n"
    }
   }
  },
  {
   "cell_type": "markdown",
   "source": [
    "**Делаем бэйслайн с замененными значениями и удаленными**\n"
   ],
   "metadata": {
    "collapsed": false,
    "pycharm": {
     "name": "#%% md\n"
    }
   }
  },
  {
   "cell_type": "code",
   "execution_count": 54,
   "outputs": [],
   "source": [],
   "metadata": {
    "collapsed": false,
    "pycharm": {
     "name": "#%%\n"
    }
   }
  },
  {
   "cell_type": "code",
   "execution_count": 55,
   "outputs": [],
   "source": [
    "df.fillna(-999, inplace=True)"
   ],
   "metadata": {
    "collapsed": false,
    "pycharm": {
     "name": "#%%\n"
    }
   }
  },
  {
   "cell_type": "code",
   "execution_count": 55,
   "outputs": [],
   "source": [],
   "metadata": {
    "collapsed": false,
    "pycharm": {
     "name": "#%%\n"
    }
   }
  },
  {
   "cell_type": "markdown",
   "id": "160af548-c186-443a-9f6b-35373b9de9cc",
   "metadata": {
    "pycharm": {
     "name": "#%% md\n"
    }
   },
   "source": [
    "### Preprocessing (подготовка данных)"
   ]
  },
  {
   "cell_type": "markdown",
   "id": "2dc5c679-39ad-4365-a7c8-0c65ea7dd670",
   "metadata": {
    "pycharm": {
     "name": "#%% md\n"
    }
   },
   "source": [
    " В этом разделе вам необходимо реализовать подготовку ваших данных, в том числе заполнение пропусков, фильтрацию выбросов, кодирование категориальных признаков и т.д. В этот же раздел включите любые операции над данными, которые сочтете нужными."
   ]
  },
  {
   "cell_type": "code",
   "execution_count": 56,
   "id": "bf9f8d01-e025-42c6-bb43-5a36f45f5c19",
   "metadata": {
    "pycharm": {
     "name": "#%%\n"
    }
   },
   "outputs": [],
   "source": [
    "# preprocessing pipeline"
   ]
  },
  {
   "cell_type": "markdown",
   "id": "8479a893-758a-48ce-a654-d3b7ac26d1fb",
   "metadata": {
    "pycharm": {
     "name": "#%% md\n"
    }
   },
   "source": [
    "### Model & training (Выбор модели и её обучение)"
   ]
  },
  {
   "cell_type": "markdown",
   "id": "05d8b94b-06f2-44ea-a6b4-96bc9e7de76f",
   "metadata": {
    "pycharm": {
     "name": "#%% md\n"
    }
   },
   "source": [
    "В этом разделе описываете модель и ставите эксперименты по обучению.\n",
    "\n",
    "Если вы ставили много экспериментов, приведите их в хронологическом порядке чтобы мы увидели эволюцию ваших рассуждений."
   ]
  },
  {
   "cell_type": "markdown",
   "id": "4d87d736-4628-4fab-ae88-ac0189a159bd",
   "metadata": {
    "pycharm": {
     "name": "#%% md\n"
    }
   },
   "source": [
    "#### Эксперимент 1"
   ]
  },
  {
   "cell_type": "code",
   "execution_count": 57,
   "id": "0b469536-9415-4c86-9784-3dbada62c28c",
   "metadata": {
    "pycharm": {
     "name": "#%%\n"
    }
   },
   "outputs": [],
   "source": [
    "from sklearn.model_selection import train_test_split\n",
    "X = original_features\n",
    "y = original_targets\n",
    "\n",
    "\n",
    "#X_test = test_df"
   ]
  },
  {
   "cell_type": "code",
   "execution_count": 58,
   "outputs": [],
   "source": [
    "X_train, X_validation, y_train, y_validation = train_test_split(X, y, train_size=0.75, random_state=42)"
   ],
   "metadata": {
    "collapsed": false,
    "pycharm": {
     "name": "#%%\n"
    }
   }
  },
  {
   "cell_type": "code",
   "execution_count": 59,
   "outputs": [],
   "source": [
    "from catboost import CatBoostClassifier, Pool, metrics, cv\n",
    "from sklearn.metrics import roc_auc_score"
   ],
   "metadata": {
    "collapsed": false,
    "pycharm": {
     "name": "#%%\n"
    }
   }
  },
  {
   "cell_type": "code",
   "execution_count": 60,
   "outputs": [],
   "source": [
    "model = CatBoostClassifier(\n",
    "    custom_loss=[metrics.Accuracy()],\n",
    "    random_seed=42,\n",
    "    logging_level='Silent'\n",
    ")"
   ],
   "metadata": {
    "collapsed": false,
    "pycharm": {
     "name": "#%%\n"
    }
   }
  },
  {
   "cell_type": "code",
   "execution_count": null,
   "outputs": [
    {
     "data": {
      "text/plain": "MetricVisualizer(layout=Layout(align_self='stretch', height='500px'))",
      "application/vnd.jupyter.widget-view+json": {
       "version_major": 2,
       "version_minor": 0,
       "model_id": "e6a6c88a81e64ce78a7f8d65732fc878"
      }
     },
     "metadata": {},
     "output_type": "display_data"
    }
   ],
   "source": [
    "model.fit(\n",
    "    X_train, y_train,\n",
    "    cat_features=categorial_features,\n",
    "    eval_set=(X_validation, y_validation),\n",
    "#     logging_level='Verbose',  # you can uncomment this for text output\n",
    "    plot=True\n",
    ");"
   ],
   "metadata": {
    "collapsed": false,
    "pycharm": {
     "name": "#%%\n",
     "is_executing": true
    }
   }
  },
  {
   "cell_type": "markdown",
   "id": "63ad46c8-d632-4476-a438-b9318bb0fbc8",
   "metadata": {
    "pycharm": {
     "name": "#%% md\n"
    }
   },
   "source": [
    "#### Эксперимент 2"
   ]
  },
  {
   "cell_type": "code",
   "execution_count": 61,
   "id": "91ff3bbf-7ecc-4b58-8d28-b6cf64afed39",
   "metadata": {
    "pycharm": {
     "name": "#%%\n"
    }
   },
   "outputs": [],
   "source": [
    "# some code and comments"
   ]
  },
  {
   "cell_type": "markdown",
   "id": "c26becfd-c285-411c-80b1-daf27d7f701a",
   "metadata": {
    "pycharm": {
     "name": "#%% md\n"
    }
   },
   "source": [
    "#### Эксперимент 3"
   ]
  },
  {
   "cell_type": "code",
   "execution_count": 62,
   "id": "adc78697-8682-4c0c-8caf-db4e14788907",
   "metadata": {
    "pycharm": {
     "name": "#%%\n"
    }
   },
   "outputs": [],
   "source": [
    "# some code and comments"
   ]
  },
  {
   "cell_type": "markdown",
   "id": "2951c100-0ab9-4900-915d-30a200970c45",
   "metadata": {
    "pycharm": {
     "name": "#%% md\n"
    }
   },
   "source": [
    "### Evaluation (оценка качества модели)"
   ]
  },
  {
   "cell_type": "markdown",
   "id": "0d648625-3c46-4e2c-ac1a-e96335a65e54",
   "metadata": {
    "pycharm": {
     "name": "#%% md\n"
    }
   },
   "source": [
    "В этом разделе проводите оценку качества вашей итоговой модели. "
   ]
  },
  {
   "cell_type": "code",
   "execution_count": 63,
   "id": "f1667a6c-5b1f-4288-bdf5-1d671178126a",
   "metadata": {
    "pycharm": {
     "name": "#%%\n"
    }
   },
   "outputs": [],
   "source": [
    "# model evaluation"
   ]
  },
  {
   "cell_type": "markdown",
   "id": "4495c17d-912b-42ea-9536-4b668d6a22d4",
   "metadata": {
    "pycharm": {
     "name": "#%% md\n"
    }
   },
   "source": [
    "### Conclusion (Выводы)"
   ]
  },
  {
   "cell_type": "markdown",
   "id": "70b88756-3945-4729-b58f-b779bf55b45e",
   "metadata": {
    "pycharm": {
     "name": "#%% md\n"
    }
   },
   "source": [
    "В этом разделе описываете полученные результаты и проводите анализ выполненной работы. \n",
    "Что получилось / не получилось и почему?"
   ]
  },
  {
   "cell_type": "code",
   "execution_count": 63,
   "id": "4b7af2ca-a2df-48a8-b115-37ceb51f2f08",
   "metadata": {
    "pycharm": {
     "name": "#%%\n"
    }
   },
   "outputs": [],
   "source": []
  }
 ],
 "metadata": {
  "kernelspec": {
   "display_name": "Python 3 (ipykernel)",
   "language": "python",
   "name": "python3"
  },
  "language_info": {
   "codemirror_mode": {
    "name": "ipython",
    "version": 3
   },
   "file_extension": ".py",
   "mimetype": "text/x-python",
   "name": "python",
   "nbconvert_exporter": "python",
   "pygments_lexer": "ipython3",
   "version": "3.10.11"
  }
 },
 "nbformat": 4,
 "nbformat_minor": 5
}